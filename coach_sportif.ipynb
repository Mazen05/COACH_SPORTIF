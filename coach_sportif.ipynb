{
 "cells": [
  {
   "cell_type": "markdown",
   "id": "8a18fc31",
   "metadata": {},
   "source": [
    "# 🏋️ Coach Sportif Intelligent\n",
    "\n",
    "Ce projet vise à :\n",
    "- Recommander un programme d’entraînement personnalisé\n",
    "- Prédire la progression des performances sportives\n",
    "\n",
    "Les données sont simulées à partir de profils utilisateurs et journaux d’entraînement."
   ]
  },
  {
   "cell_type": "code",
   "execution_count": 13,
   "id": "82003737",
   "metadata": {},
   "outputs": [
    {
     "data": {
      "text/html": [
       "<div>\n",
       "<style scoped>\n",
       "    .dataframe tbody tr th:only-of-type {\n",
       "        vertical-align: middle;\n",
       "    }\n",
       "\n",
       "    .dataframe tbody tr th {\n",
       "        vertical-align: top;\n",
       "    }\n",
       "\n",
       "    .dataframe thead th {\n",
       "        text-align: right;\n",
       "    }\n",
       "</style>\n",
       "<table border=\"1\" class=\"dataframe\">\n",
       "  <thead>\n",
       "    <tr style=\"text-align: right;\">\n",
       "      <th></th>\n",
       "      <th>age</th>\n",
       "      <th>sexe</th>\n",
       "      <th>poids</th>\n",
       "      <th>taille</th>\n",
       "      <th>objectif</th>\n",
       "      <th>historique_sportif</th>\n",
       "      <th>programme_recommandé</th>\n",
       "    </tr>\n",
       "  </thead>\n",
       "  <tbody>\n",
       "    <tr>\n",
       "      <th>0</th>\n",
       "      <td>56</td>\n",
       "      <td>H</td>\n",
       "      <td>60</td>\n",
       "      <td>159</td>\n",
       "      <td>endurance</td>\n",
       "      <td>débutant</td>\n",
       "      <td>cardio</td>\n",
       "    </tr>\n",
       "    <tr>\n",
       "      <th>1</th>\n",
       "      <td>46</td>\n",
       "      <td>F</td>\n",
       "      <td>78</td>\n",
       "      <td>166</td>\n",
       "      <td>endurance</td>\n",
       "      <td>avancé</td>\n",
       "      <td>musculation</td>\n",
       "    </tr>\n",
       "    <tr>\n",
       "      <th>2</th>\n",
       "      <td>32</td>\n",
       "      <td>H</td>\n",
       "      <td>85</td>\n",
       "      <td>169</td>\n",
       "      <td>perte de poids</td>\n",
       "      <td>avancé</td>\n",
       "      <td>cardio</td>\n",
       "    </tr>\n",
       "    <tr>\n",
       "      <th>3</th>\n",
       "      <td>25</td>\n",
       "      <td>H</td>\n",
       "      <td>74</td>\n",
       "      <td>173</td>\n",
       "      <td>endurance</td>\n",
       "      <td>avancé</td>\n",
       "      <td>HIIT</td>\n",
       "    </tr>\n",
       "    <tr>\n",
       "      <th>4</th>\n",
       "      <td>38</td>\n",
       "      <td>F</td>\n",
       "      <td>70</td>\n",
       "      <td>154</td>\n",
       "      <td>perte de poids</td>\n",
       "      <td>intermédiaire</td>\n",
       "      <td>HIIT</td>\n",
       "    </tr>\n",
       "  </tbody>\n",
       "</table>\n",
       "</div>"
      ],
      "text/plain": [
       "   age sexe  poids  taille        objectif historique_sportif  \\\n",
       "0   56    H     60     159       endurance           débutant   \n",
       "1   46    F     78     166       endurance             avancé   \n",
       "2   32    H     85     169  perte de poids             avancé   \n",
       "3   25    H     74     173       endurance             avancé   \n",
       "4   38    F     70     154  perte de poids      intermédiaire   \n",
       "\n",
       "  programme_recommandé  \n",
       "0               cardio  \n",
       "1          musculation  \n",
       "2               cardio  \n",
       "3                 HIIT  \n",
       "4                 HIIT  "
      ]
     },
     "execution_count": 13,
     "metadata": {},
     "output_type": "execute_result"
    }
   ],
   "source": [
    "import pandas as pd\n",
    "\n",
    "# Chargement des données simulées\n",
    "df_reco = pd.read_csv(\"data_reco.csv\")\n",
    "df_perf = pd.read_csv(\"data_perf.csv\")\n",
    "\n",
    "df_reco.head()"
   ]
  },
  {
   "cell_type": "markdown",
   "id": "7a2ec324",
   "metadata": {},
   "source": [
    "## 🔍 Partie 1 : Recommandation de programme d'entraînement\n",
    "Nous utilisons un modèle de classification (KNN) pour prédire un type de programme selon le profil et l’objectif."
   ]
  },
  {
   "cell_type": "code",
   "execution_count": 14,
   "id": "c61c5a04",
   "metadata": {},
   "outputs": [
    {
     "name": "stdout",
     "output_type": "stream",
     "text": [
      "              precision    recall  f1-score   support\n",
      "\n",
      "           0       0.18      0.24      0.21        17\n",
      "           1       0.29      0.35      0.32        20\n",
      "           2       0.21      0.13      0.16        23\n",
      "\n",
      "    accuracy                           0.23        60\n",
      "   macro avg       0.23      0.24      0.23        60\n",
      "weighted avg       0.23      0.23      0.23        60\n",
      "\n"
     ]
    }
   ],
   "source": [
    "from sklearn.model_selection import train_test_split\n",
    "from sklearn.preprocessing import LabelEncoder\n",
    "from sklearn.neighbors import KNeighborsClassifier\n",
    "from sklearn.metrics import classification_report\n",
    "\n",
    "# Encodage des variables catégorielles\n",
    "df_encoded = df_reco.copy()\n",
    "for col in [\"sexe\", \"objectif\", \"historique_sportif\", \"programme_recommandé\"]:\n",
    "    le = LabelEncoder()\n",
    "    df_encoded[col] = le.fit_transform(df_encoded[col])\n",
    "\n",
    "X = df_encoded.drop(\"programme_recommandé\", axis=1)\n",
    "y = df_encoded[\"programme_recommandé\"]\n",
    "\n",
    "X_train, X_test, y_train, y_test = train_test_split(X, y, test_size=0.2, random_state=42)\n",
    "\n",
    "model_reco = KNeighborsClassifier(n_neighbors=5)\n",
    "model_reco.fit(X_train, y_train)\n",
    "\n",
    "y_pred = model_reco.predict(X_test)\n",
    "print(classification_report(y_test, y_pred))"
   ]
  },
  {
   "cell_type": "code",
   "execution_count": 15,
   "id": "a4fcc522",
   "metadata": {},
   "outputs": [
    {
     "name": "stderr",
     "output_type": "stream",
     "text": [
      "2025/05/26 16:06:07 INFO mlflow.tracking.fluent: Experiment with name 'CoachSportif' does not exist. Creating a new experiment.\n"
     ]
    },
    {
     "data": {
      "text/plain": [
       "<Experiment: artifact_location='file:///c:/Users/mazen/Downloads/COACH_SPORTIF/mlruns/542932965039613921', creation_time=1748268367219, experiment_id='542932965039613921', last_update_time=1748268367219, lifecycle_stage='active', name='CoachSportif', tags={}>"
      ]
     },
     "execution_count": 15,
     "metadata": {},
     "output_type": "execute_result"
    }
   ],
   "source": [
    "import mlflow\n",
    "import mlflow.sklearn\n",
    "import mlflow.xgboost\n",
    "\n",
    "mlflow.set_experiment(\"CoachSportif\")\n"
   ]
  },
  {
   "cell_type": "code",
   "execution_count": 16,
   "id": "4531bfad",
   "metadata": {},
   "outputs": [
    {
     "name": "stderr",
     "output_type": "stream",
     "text": [
      "2025/05/26 16:06:15 WARNING mlflow.models.model: Model logged without a signature and input example. Please set `input_example` parameter when logging the model to auto infer the model signature.\n"
     ]
    },
    {
     "name": "stdout",
     "output_type": "stream",
     "text": [
      "MLflow run KNN terminé avec accuracy : 0.23333333333333334\n"
     ]
    }
   ],
   "source": [
    "with mlflow.start_run(run_name=\"KNN - Recommandation\"):\n",
    "    mlflow.log_param(\"model\", \"KNN\")\n",
    "    mlflow.log_param(\"n_neighbors\", 5)\n",
    "    \n",
    "    mlflow.sklearn.log_model(model_reco, \"model_reco_knn\")\n",
    "    from sklearn.metrics import accuracy_score\n",
    "    acc = accuracy_score(y_test, y_pred)\n",
    "    mlflow.log_metric(\"accuracy\", acc)\n",
    "    print(\"MLflow run KNN terminé avec accuracy :\", acc)\n"
   ]
  },
  {
   "cell_type": "code",
   "execution_count": 17,
   "id": "01181420",
   "metadata": {},
   "outputs": [
    {
     "data": {
      "text/plain": [
       "['model_reco.pkl']"
      ]
     },
     "execution_count": 17,
     "metadata": {},
     "output_type": "execute_result"
    }
   ],
   "source": [
    "import joblib\n",
    "joblib.dump(model_reco, \"model_reco.pkl\")"
   ]
  },
  {
   "cell_type": "markdown",
   "id": "96fe66ba",
   "metadata": {},
   "source": [
    "## 📈 Partie 2 : Prédiction de performance\n",
    "Nous utilisons un modèle de régression (XGBoost) pour estimer la progression future (reps ou charge)."
   ]
  },
  {
   "cell_type": "code",
   "execution_count": 18,
   "id": "d48e447b",
   "metadata": {},
   "outputs": [
    {
     "name": "stdout",
     "output_type": "stream",
     "text": [
      "MSE: 918.5921456106537\n"
     ]
    }
   ],
   "source": [
    "from xgboost import XGBRegressor\n",
    "from sklearn.metrics import mean_squared_error\n",
    "\n",
    "X = df_perf.drop(\"progression_future\", axis=1)\n",
    "y = df_perf[\"progression_future\"]\n",
    "\n",
    "X_train, X_test, y_train, y_test = train_test_split(X, y, test_size=0.2, random_state=42)\n",
    "\n",
    "model_perf = XGBRegressor()\n",
    "model_perf.fit(X_train, y_train)\n",
    "\n",
    "y_pred = model_perf.predict(X_test)\n",
    "print(\"MSE:\", mean_squared_error(y_test, y_pred))"
   ]
  },
  {
   "cell_type": "code",
   "execution_count": 19,
   "id": "ca457903",
   "metadata": {},
   "outputs": [
    {
     "data": {
      "text/plain": [
       "['model_perf.pkl']"
      ]
     },
     "execution_count": 19,
     "metadata": {},
     "output_type": "execute_result"
    }
   ],
   "source": [
    "joblib.dump(model_perf, \"model_perf.pkl\")"
   ]
  },
  {
   "cell_type": "code",
   "execution_count": 20,
   "id": "b6c6479d",
   "metadata": {},
   "outputs": [
    {
     "data": {
      "text/plain": [
       "['model_perf.pkl']"
      ]
     },
     "execution_count": 20,
     "metadata": {},
     "output_type": "execute_result"
    }
   ],
   "source": [
    "import pandas as pd\n",
    "from sklearn.ensemble import RandomForestRegressor\n",
    "from sklearn.model_selection import train_test_split\n",
    "import joblib\n",
    "\n",
    "# Chargement\n",
    "df = pd.read_csv(\"data_perf.csv\")\n",
    "\n",
    "X = df.drop(\"progression_future\", axis=1)\n",
    "y = df[\"progression_future\"]\n",
    "\n",
    "# Modèle\n",
    "X_train, X_test, y_train, y_test = train_test_split(X, y, test_size=0.2, random_state=42)\n",
    "model_perf = RandomForestRegressor()\n",
    "model_perf.fit(X_train, y_train)\n",
    "\n",
    "# Sauvegarde\n",
    "joblib.dump(model_perf, \"model_perf.pkl\")\n"
   ]
  }
 ],
 "metadata": {
  "language_info": {
   "name": "python"
  }
 },
 "nbformat": 4,
 "nbformat_minor": 5
}
